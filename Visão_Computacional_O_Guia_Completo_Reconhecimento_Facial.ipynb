{
  "nbformat": 4,
  "nbformat_minor": 0,
  "metadata": {
    "colab": {
      "provenance": [],
      "include_colab_link": true
    },
    "kernelspec": {
      "name": "python3",
      "display_name": "Python 3"
    },
    "language_info": {
      "name": "python"
    },
    "accelerator": "GPU"
  },
  "cells": [
    {
      "cell_type": "markdown",
      "metadata": {
        "id": "view-in-github",
        "colab_type": "text"
      },
      "source": [
        "<a href=\"https://colab.research.google.com/github/vitskrieg/Brainstorm-de-Python/blob/main/Vis%C3%A3o_Computacional_O_Guia_Completo_Reconhecimento_Facial.ipynb\" target=\"_parent\"><img src=\"https://colab.research.google.com/assets/colab-badge.svg\" alt=\"Open In Colab\"/></a>"
      ]
    },
    {
      "cell_type": "markdown",
      "metadata": {
        "id": "RQxiYPhNK8d7"
      },
      "source": [
        "# Visão Computacional: O Guia Completo - Reconhecimento Facial"
      ]
    },
    {
      "cell_type": "markdown",
      "metadata": {
        "id": "rEUXKXR1LExp"
      },
      "source": [
        "# OpenCV"
      ]
    },
    {
      "cell_type": "markdown",
      "metadata": {
        "id": "bwmF-9spLHFT"
      },
      "source": [
        "## Carregamento da base de dados\n",
        "\n",
        "- Yale faces database: http://vision.ucsd.edu/content/yale-face-database"
      ]
    },
    {
      "cell_type": "code",
      "metadata": {
        "colab": {
          "base_uri": "https://localhost:8080/"
        },
        "id": "icYukNclgdC4",
        "outputId": "6427037a-f159-4eb3-dae6-ab7a5ce25da9"
      },
      "source": [
        "from PIL import Image  #pacote de processamento de imagens\n",
        "import cv2\n",
        "import numpy as np     # vetores e matrizes\n",
        "from google.colab.patches import cv2_imshow   \n",
        "from google.colab import drive\n",
        "drive.mount('/content/drive')"
      ],
      "execution_count": null,
      "outputs": [
        {
          "output_type": "stream",
          "name": "stdout",
          "text": [
            "Drive already mounted at /content/drive; to attempt to forcibly remount, call drive.mount(\"/content/drive\", force_remount=True).\n"
          ]
        }
      ]
    },
    {
      "cell_type": "code",
      "metadata": {
        "id": "aKb18D2uhBK1"
      },
      "source": [
        "import zipfile    #descompactar arquivos\n",
        "path = '//content/drive/MyDrive/Visão Computacional_IA_Expert/Material 1/Datasets/yalefaces.zip'\n",
        "zip_object = zipfile.ZipFile(file=path, mode = 'r') #\"file\" ira receber path, e mode indica que esta em modo leitura\n",
        "zip_object.extractall('./')   #local da extração, no caso, a pasta raiz do google colab\n",
        "zip_object.close()"
      ],
      "execution_count": null,
      "outputs": []
    },
    {
      "cell_type": "markdown",
      "metadata": {
        "id": "EUyVBOZSLJuD"
      },
      "source": [
        "## Pré-processamento das imagens"
      ]
    },
    {
      "cell_type": "code",
      "metadata": {
        "colab": {
          "base_uri": "https://localhost:8080/"
        },
        "id": "K0C-n1NhjAPg",
        "outputId": "28a2ace6-9604-4b74-b419-71dfabad1517"
      },
      "source": [
        "import os                                     #libera funcionalidades do prompt de comando\n",
        "print(os.listdir('/content/yalefaces/train')) #listando diretorios/arquivos"
      ],
      "execution_count": null,
      "outputs": [
        {
          "output_type": "stream",
          "name": "stdout",
          "text": [
            "['subject01.rightlight.gif', 'subject06.sad.gif', 'subject15.sleepy.gif', 'subject09.surprised.gif', 'subject03.centerlight.gif', 'subject15.surprised.gif', 'subject06.surprised.gif', 'subject06.sleepy.gif', 'subject12.glasses.gif', 'subject07.rightlight.gif', 'subject01.surprised.gif', 'subject11.noglasses.gif', 'subject01.leftlight.gif', 'subject11.surprised.gif', 'subject08.centerlight.gif', 'subject15.happy.gif', 'subject03.wink.gif', 'subject11.sleepy.gif', 'subject15.centerlight.gif', 'subject13.glasses.gif', 'subject10.happy.gif', 'subject11.rightlight.gif', 'subject04.centerlight.gif', 'subject11.centerlight.gif', 'subject15.noglasses.gif', 'subject08.happy.gif', 'subject09.happy.gif', 'subject15.wink.gif', 'subject04.happy.gif', 'subject04.wink.gif', 'subject06.centerlight.gif', 'subject02.normal.gif', 'subject02.noglasses.gif', 'subject12.surprised.gif', 'subject09.sleepy.gif', 'subject10.glasses.gif', 'subject13.leftlight.gif', 'subject14.sleepy.gif', 'subject07.normal.gif', 'subject06.noglasses.gif', 'subject05.happy.gif', 'subject06.normal.gif', 'subject08.sad.gif', 'subject04.sleepy.gif', 'subject02.rightlight.gif', 'subject07.glasses.gif', 'subject14.happy.gif', 'subject14.surprised.gif', 'subject11.sad.gif', 'subject11.wink.gif', 'subject08.glasses.gif', 'subject08.leftlight.gif', 'subject05.sad.gif', 'subject05.noglasses.gif', 'subject14.wink.gif', 'subject06.rightlight.gif', 'subject12.noglasses.gif', 'subject05.centerlight.gif', 'subject10.wink.gif', 'subject13.noglasses.gif', 'subject11.normal.gif', 'subject13.normal.gif', 'subject08.noglasses.gif', 'subject03.sleepy.gif', 'subject14.centerlight.gif', 'subject12.sad.gif', 'subject03.sad.gif', 'subject12.leftlight.gif', 'subject01.normal.gif', 'subject02.wink.gif', 'subject14.noglasses.gif', 'subject13.rightlight.gif', 'subject14.leftlight.gif', 'subject08.wink.gif', 'subject03.surprised.gif', 'subject10.sleepy.gif', 'subject12.happy.gif', 'subject01.noglasses.gif', 'subject05.normal.gif', 'subject10.surprised.gif', 'subject07.centerlight.gif', 'subject07.sleepy.gif', 'subject13.wink.gif', 'subject14.rightlight.gif', 'subject02.glasses.gif', 'subject13.centerlight.gif', 'subject09.wink.gif', 'subject07.surprised.gif', 'subject12.sleepy.gif', 'subject10.normal.gif', 'subject02.sleepy.gif', 'subject12.wink.gif', 'subject08.sleepy.gif', 'subject08.surprised.gif', 'subject07.wink.gif', 'subject03.normal.gif', 'subject05.leftlight.gif', 'subject13.surprised.gif', 'subject04.glasses.gif', 'subject11.leftlight.gif', 'subject10.leftlight.gif', 'subject10.rightlight.gif', 'subject12.centerlight.gif', 'subject04.sad.gif', 'subject04.noglasses.gif', 'subject02.surprised.gif', 'subject01.wink.gif', 'subject15.glasses.gif', 'subject06.wink.gif', 'subject03.noglasses.gif', 'subject01.sleepy.gif', 'subject09.leftlight.gif', 'subject07.noglasses.gif', 'subject03.rightlight.gif', 'subject15.normal.gif', 'subject07.sad.gif', 'subject15.leftlight.gif', 'subject01.sad.gif', 'subject02.sad.gif', 'subject05.glasses.gif', 'subject10.noglasses.gif', 'subject09.noglasses.gif', 'subject06.glasses.gif', 'subject13.happy.gif', 'subject14.glasses.gif', 'subject05.wink.gif', 'subject09.normal.gif', 'subject01.glasses.gif', 'subject03.happy.gif', 'subject09.centerlight.gif', 'subject04.normal.gif', 'subject09.glasses.gif', 'subject04.rightlight.gif', 'subject05.rightlight.gif', 'subject02.happy.gif']\n"
          ]
        }
      ]
    },
    {
      "cell_type": "code",
      "metadata": {
        "id": "Mmiy5LnSjZFl"
      },
      "source": [
        "def get_image_data():\n",
        "  paths = [os.path.join('/content/yalefaces/train', f) for f in os.listdir('/content/yalefaces/train')] #estou juntando nome das imagens com o nome do diretorio, para termos o \"path\" de cada arquivo\n",
        "  #print(paths)\n",
        "  faces = []    #armazenar os pixels das imagens\n",
        "  ids = []      #os ids das pessoas contidos nos nomes\n",
        "  for path in paths:\n",
        "    #print(path)\n",
        "    imagem = Image.open(path).convert('L') #cria variavel, ela recebe o objeto Image.open(caminho das imagens) e em seguida converte ela pra um formato PIL para podermos converter para GRAY\n",
        "    #print(type(imagem))\n",
        "    imagem_np = np.array(imagem, 'uint8') #os parametros passados indicam que vamos armazenas matrizes de numeros inteiros\n",
        "    #print(type(imagem_np))\n",
        "    #print(os.path.split(path)[1])\n",
        "    id = int(os.path.split(path)[1].split('.')[0].replace('subject', ''))#\"split(path)\" quebra o path\n",
        "                                                                         #\"split('.')\"quebra o que possui \".\"\n",
        "                                                                         #\"replace('subject', '')\" remove os subjects sobrando somente os ids\n",
        "    #print(id)\n",
        "    ids.append(id)          #lista com os ids\n",
        "    faces.append(imagem_np) #lista com as imagens em array(matriz)\n",
        "    \n",
        "  return np.array(ids), faces"
      ],
      "execution_count": null,
      "outputs": []
    },
    {
      "cell_type": "code",
      "metadata": {
        "id": "VowGNb5yjpDa"
      },
      "source": [
        "ids, faces = get_image_data()"
      ],
      "execution_count": null,
      "outputs": []
    },
    {
      "cell_type": "code",
      "metadata": {
        "colab": {
          "base_uri": "https://localhost:8080/"
        },
        "id": "Kdar-k4LnoKB",
        "outputId": "4aaa6a73-4c9a-405c-961f-524d6c2ca3ec"
      },
      "source": [
        "#Quantos ids, quantas face\n",
        "\n",
        "print(\"Numero de Ids:\",len(ids))\n",
        "print(\"Quantidade de faces:\",len(faces))"
      ],
      "execution_count": null,
      "outputs": [
        {
          "output_type": "stream",
          "name": "stdout",
          "text": [
            "Numero de Ids: 135\n",
            "Quantidade de faces: 135\n"
          ]
        }
      ]
    },
    {
      "cell_type": "code",
      "metadata": {
        "colab": {
          "base_uri": "https://localhost:8080/"
        },
        "id": "riAGwWXInsoj",
        "outputId": "24e45214-1772-4a2d-b335-79bd6ad50330"
      },
      "source": [
        "#Face 1, numero de pixels da Face 1\n",
        "\n",
        "faces[1], faces[1].shape"
      ],
      "execution_count": null,
      "outputs": [
        {
          "output_type": "execute_result",
          "data": {
            "text/plain": [
              "(array([[112,  97,  93, ..., 227, 225, 235],\n",
              "        [241, 218, 211, ..., 246, 237, 242],\n",
              "        [255, 255, 255, ..., 255, 255, 255],\n",
              "        ...,\n",
              "        [196, 188, 192, ..., 232, 213, 223],\n",
              "        [200, 193, 199, ..., 216, 197, 207],\n",
              "        [ 68,  68,  68, ...,  68,  68,  68]], dtype=uint8),\n",
              " (243, 320))"
            ]
          },
          "metadata": {},
          "execution_count": 25
        }
      ]
    },
    {
      "cell_type": "code",
      "metadata": {
        "colab": {
          "base_uri": "https://localhost:8080/"
        },
        "id": "RM3IzzxEn5g-",
        "outputId": "d31568a0-be44-409a-d17d-993a7923ab4c"
      },
      "source": [
        "243 * 320, 243 * 320 * 3"
      ],
      "execution_count": null,
      "outputs": [
        {
          "output_type": "execute_result",
          "data": {
            "text/plain": [
              "(77760, 233280)"
            ]
          },
          "metadata": {},
          "execution_count": 26
        }
      ]
    },
    {
      "cell_type": "markdown",
      "metadata": {
        "id": "kIDEH4NCLMwC"
      },
      "source": [
        "## Treinamento do classificador LBPH"
      ]
    },
    {
      "cell_type": "code",
      "metadata": {
        "colab": {
          "base_uri": "https://localhost:8080/"
        },
        "id": "b4Qxcx2p0CtB",
        "outputId": "b326f1f9-7e50-4491-a2b3-d13d8865506a"
      },
      "source": [
        "8 * 8, 9 * 9"
      ],
      "execution_count": null,
      "outputs": [
        {
          "output_type": "execute_result",
          "data": {
            "text/plain": [
              "(64, 81)"
            ]
          },
          "metadata": {},
          "execution_count": 27
        }
      ]
    },
    {
      "cell_type": "code",
      "metadata": {
        "id": "tSImExTuonxS"
      },
      "source": [
        "# threshold: 1.7976931348623157e+308\n",
        "# radius: 1\n",
        "# neighbors: 8\n",
        "# grid_x: 8\n",
        "# grid_y: 8\n",
        "\n",
        "lbph_classifier = cv2.face.LBPHFaceRecognizer_create(radius=4, neighbors=14,grid_x=9,grid_y=9)   #parametros\n",
        "lbph_classifier.train(faces, ids)   #treinamento, passe as faces(vetores) e os ids(indices)\n",
        "lbph_classifier.write('lbph_classifier.yml')    #nome do arquivo que vamos salvar como treinamento da detecção de faces"
      ],
      "execution_count": null,
      "outputs": []
    },
    {
      "cell_type": "markdown",
      "metadata": {
        "id": "eGdeLMKuLPdo"
      },
      "source": [
        "## Reconhecimento de faces"
      ]
    },
    {
      "cell_type": "code",
      "metadata": {
        "id": "9UOzBzRcrZr6"
      },
      "source": [
        "lbph_face_classifier = cv2.face.LBPHFaceRecognizer_create()   #Criando o objeto \n",
        "lbph_face_classifier.read('/content/lbph_classifier.yml')     #Carregando o modelo ja treinado"
      ],
      "execution_count": null,
      "outputs": []
    },
    {
      "cell_type": "code",
      "metadata": {
        "id": "wDFPDnRrrrE_"
      },
      "source": [
        "imagem_teste = '/content/yalefaces/test/subject10.sad.gif' #Teste "
      ],
      "execution_count": null,
      "outputs": []
    },
    {
      "cell_type": "code",
      "metadata": {
        "colab": {
          "base_uri": "https://localhost:8080/"
        },
        "id": "L2b6ttH1r6qX",
        "outputId": "726e74f0-aa31-445b-9a90-3594b2243681"
      },
      "source": [
        "imagem = Image.open(imagem_teste).convert('L')   #conversão para escala de cinzas\n",
        "imagem_np = np.array(imagem, 'uint8')            #transformando a imagem em vetor\n",
        "imagem_np"
      ],
      "execution_count": null,
      "outputs": [
        {
          "output_type": "execute_result",
          "data": {
            "text/plain": [
              "array([[130, 130, 130, ..., 255, 255, 255],\n",
              "       [255, 255, 255, ..., 255, 255, 255],\n",
              "       [255, 255, 255, ..., 255, 255, 255],\n",
              "       ...,\n",
              "       [255, 255, 255, ..., 241, 255, 255],\n",
              "       [255, 255, 255, ..., 234, 237, 252],\n",
              "       [ 68,  68,  68, ...,  68,  68,  68]], dtype=uint8)"
            ]
          },
          "metadata": {},
          "execution_count": 31
        }
      ]
    },
    {
      "cell_type": "code",
      "metadata": {
        "colab": {
          "base_uri": "https://localhost:8080/"
        },
        "id": "iwp50minsFvr",
        "outputId": "e346b3b5-623f-48aa-bff6-3788df42e6c3"
      },
      "source": [
        "imagem_np.shape"
      ],
      "execution_count": null,
      "outputs": [
        {
          "output_type": "execute_result",
          "data": {
            "text/plain": [
              "(243, 320)"
            ]
          },
          "metadata": {},
          "execution_count": 32
        }
      ]
    },
    {
      "cell_type": "code",
      "metadata": {
        "colab": {
          "base_uri": "https://localhost:8080/"
        },
        "id": "oOHr0c9LsK7W",
        "outputId": "cc2d8dae-0246-4275-f179-29b6987eb121"
      },
      "source": [
        "previsao = lbph_face_classifier.predict(imagem_np)    \n",
        "previsao    #Essa imagem foi classificado pelo numero 10, que é o ID dessa imagem como esta\n",
        "            #escrito no path dela\n",
        "            #36.8 é a confiabilidade de que é esse mesmo valor"
      ],
      "execution_count": null,
      "outputs": [
        {
          "output_type": "execute_result",
          "data": {
            "text/plain": [
              "(10, 36.84750735484425)"
            ]
          },
          "metadata": {},
          "execution_count": 33
        }
      ]
    },
    {
      "cell_type": "code",
      "metadata": {
        "colab": {
          "base_uri": "https://localhost:8080/"
        },
        "id": "0E78ku4rsXWx",
        "outputId": "df5a4154-d958-4e6c-9afd-647fda89155c"
      },
      "source": [
        "previsao[0] #Extraindo somente a classe"
      ],
      "execution_count": null,
      "outputs": [
        {
          "output_type": "execute_result",
          "data": {
            "text/plain": [
              "10"
            ]
          },
          "metadata": {},
          "execution_count": 34
        }
      ]
    },
    {
      "cell_type": "code",
      "metadata": {
        "colab": {
          "base_uri": "https://localhost:8080/"
        },
        "id": "QJF_A170sako",
        "outputId": "b04b80bc-4ae4-4de6-edc5-e438c6c743a0"
      },
      "source": [
        "saida_esperada = int(os.path.split(imagem_teste)[1].split('.')[0].replace('subject', ''))\n",
        "saida_esperada"
      ],
      "execution_count": null,
      "outputs": [
        {
          "output_type": "execute_result",
          "data": {
            "text/plain": [
              "10"
            ]
          },
          "metadata": {},
          "execution_count": 35
        }
      ]
    },
    {
      "cell_type": "code",
      "metadata": {
        "colab": {
          "base_uri": "https://localhost:8080/",
          "height": 260
        },
        "id": "7O_2akG1sszt",
        "outputId": "0c98079d-68fe-486e-accd-d03a95790ea1"
      },
      "source": [
        "#cv2.putText(imagem em vetor, 'texto' + id da imagem prevista, (posiçãox, posiçãoy), fonte, tamanho da fonte, cor)\n",
        "\n",
        "cv2.putText(imagem_np, 'Pred: ' + str(previsao[0]), (10,30), cv2.FONT_HERSHEY_COMPLEX_SMALL, 1, (0,255,0))\n",
        "cv2.putText(imagem_np, 'Exp: ' + str(saida_esperada), (10,50), cv2.FONT_HERSHEY_COMPLEX_SMALL, 1, (0,255,0))\n",
        "cv2_imshow(imagem_np)"
      ],
      "execution_count": null,
      "outputs": [
        {
          "output_type": "display_data",
          "data": {
            "text/plain": [
              "<PIL.Image.Image image mode=L size=320x243 at 0x7F357B166D90>"
            ],
            "image/png": "[encoded data removed]"
          },
          "metadata": {}
        }
      ]
    },
    {
      "cell_type": "markdown",
      "metadata": {
        "id": "YCCchGgvLR5i"
      },
      "source": [
        "## Avaliação do classificador(ACCURACY)"
      ]
    },
    {
      "cell_type": "markdown",
      "source": [
        "1.Radius = raio de alcance dos px\n",
        "\n",
        "2.Neighbors(vizinhos) =  numero de vizinhos, numero exatos de pixels ao redor que vão ser utilizados\n",
        "\n",
        "3.grid_x,grid_y = quantidade e colunas usadas na \n",
        "plotagem do histograma\n",
        "\n",
        "4.Threshold = confiabilidade\n",
        "\n",
        "Todos estas informações você obtem baixando o arquivo do modelo treinado e o abrindo num editor de texto"
      ],
      "metadata": {
        "id": "lfy1V5xLRAhg"
      }
    },
    {
      "cell_type": "code",
      "metadata": {
        "id": "jSa37nDhuQfT"
      },
      "source": [
        "paths = [os.path.join('/content/yalefaces/test', f) for f in os.listdir('/content/yalefaces/test')]\n",
        "previsoes = []          #saida prevista = o que queriamos\n",
        "saidas_esperadas = []   #saidas esperadas = o que \n",
        "for path in paths:\n",
        "  #print(path)\n",
        "  imagem = Image.open(path).convert('L')\n",
        "  imagem_np = np.array(imagem, 'uint8')\n",
        "  previsao, _ = lbph_face_classifier.predict(imagem_np)\n",
        "  #print(previsao)\n",
        "  saida_esperada = int(os.path.split(path)[1].split('.')[0].replace('subject', ''))\n",
        "  #print(saida_esperada)\n",
        "\n",
        "  previsoes.append(previsao)\n",
        "  saidas_esperadas.append(saida_esperada)"
      ],
      "execution_count": null,
      "outputs": []
    },
    {
      "cell_type": "code",
      "metadata": {
        "id": "xT9kyE28wNaE",
        "colab": {
          "base_uri": "https://localhost:8080/"
        },
        "outputId": "81e39380-3fde-468c-bca9-42c0cc07c39b"
      },
      "source": [
        "type(previsoes), type(saidas_esperadas)"
      ],
      "execution_count": null,
      "outputs": [
        {
          "output_type": "execute_result",
          "data": {
            "text/plain": [
              "(list, list)"
            ]
          },
          "metadata": {},
          "execution_count": 38
        }
      ]
    },
    {
      "cell_type": "code",
      "metadata": {
        "id": "dAYvomVCwSaA"
      },
      "source": [
        "previsoes = np.array(previsoes)\n",
        "saidas_esperadas = np.array(saidas_esperadas)"
      ],
      "execution_count": null,
      "outputs": []
    },
    {
      "cell_type": "code",
      "metadata": {
        "id": "AxMcwYqQwawy",
        "colab": {
          "base_uri": "https://localhost:8080/"
        },
        "outputId": "6118ddeb-750a-4e2a-db3a-5ddf8295e491"
      },
      "source": [
        "type(previsoes), type(saidas_esperadas)"
      ],
      "execution_count": null,
      "outputs": [
        {
          "output_type": "execute_result",
          "data": {
            "text/plain": [
              "(numpy.ndarray, numpy.ndarray)"
            ]
          },
          "metadata": {},
          "execution_count": 40
        }
      ]
    },
    {
      "cell_type": "code",
      "metadata": {
        "id": "yygV4LQIwcro",
        "colab": {
          "base_uri": "https://localhost:8080/"
        },
        "outputId": "3e10b5cf-95a8-4d16-fb41-d441d786d59f"
      },
      "source": [
        "previsoes"
      ],
      "execution_count": null,
      "outputs": [
        {
          "output_type": "execute_result",
          "data": {
            "text/plain": [
              "array([14,  9, 12,  7,  1, 10, 11, 12, 12,  5,  7,  6, 15, 14, 14,  4,  7,\n",
              "        8,  4,  3, 13,  4,  3,  4, 11,  4,  5, 13,  9,  4])"
            ]
          },
          "metadata": {},
          "execution_count": 41
        }
      ]
    },
    {
      "cell_type": "code",
      "metadata": {
        "id": "AFsQvxVDwelF",
        "colab": {
          "base_uri": "https://localhost:8080/"
        },
        "outputId": "560b7dfb-6a71-440b-cca9-fb7e985b4c1a"
      },
      "source": [
        "saidas_esperadas"
      ],
      "execution_count": null,
      "outputs": [
        {
          "output_type": "execute_result",
          "data": {
            "text/plain": [
              "array([14,  7, 12, 15,  1, 10, 11, 12,  2,  5,  7,  6, 15,  6, 14,  2,  9,\n",
              "        8,  1,  3, 13,  4,  3,  4, 11,  8,  5, 13,  9, 10])"
            ]
          },
          "metadata": {},
          "execution_count": 42
        }
      ]
    },
    {
      "cell_type": "code",
      "metadata": {
        "id": "54mvMUYowwR5",
        "colab": {
          "base_uri": "https://localhost:8080/"
        },
        "outputId": "76f56d09-8cf2-443e-decb-fe1c3398c1dd"
      },
      "source": [
        "from sklearn.metrics import accuracy_score\n",
        "accuracy_score(saidas_esperadas, previsoes)"
      ],
      "execution_count": null,
      "outputs": [
        {
          "output_type": "execute_result",
          "data": {
            "text/plain": [
              "0.7"
            ]
          },
          "metadata": {},
          "execution_count": 43
        }
      ]
    },
    {
      "cell_type": "code",
      "metadata": {
        "id": "V3V9FL4BxB5t",
        "colab": {
          "base_uri": "https://localhost:8080/"
        },
        "outputId": "00613543-f9d9-4ce1-d400-67b9e2d14156"
      },
      "source": [
        "len(previsoes)"
      ],
      "execution_count": null,
      "outputs": [
        {
          "output_type": "execute_result",
          "data": {
            "text/plain": [
              "30"
            ]
          },
          "metadata": {},
          "execution_count": 44
        }
      ]
    },
    {
      "cell_type": "code",
      "metadata": {
        "id": "HHRxKZ_axFIx",
        "colab": {
          "base_uri": "https://localhost:8080/"
        },
        "outputId": "0921183d-260c-40c4-87ed-51f73824ad1a"
      },
      "source": [
        "(30 * 70) / 100"
      ],
      "execution_count": null,
      "outputs": [
        {
          "output_type": "execute_result",
          "data": {
            "text/plain": [
              "21.0"
            ]
          },
          "metadata": {},
          "execution_count": 45
        }
      ]
    },
    {
      "cell_type": "code",
      "metadata": {
        "id": "nmG4oFOlxOfu",
        "colab": {
          "base_uri": "https://localhost:8080/"
        },
        "outputId": "efb1640a-85af-459a-ae1d-45d2ae804dee"
      },
      "source": [
        "from sklearn.metrics import confusion_matrix\n",
        "cm = confusion_matrix(saidas_esperadas, previsoes)\n",
        "cm"
      ],
      "execution_count": null,
      "outputs": [
        {
          "output_type": "execute_result",
          "data": {
            "text/plain": [
              "array([[1, 0, 0, 1, 0, 0, 0, 0, 0, 0, 0, 0, 0, 0, 0],\n",
              "       [0, 0, 0, 1, 0, 0, 0, 0, 0, 0, 0, 1, 0, 0, 0],\n",
              "       [0, 0, 2, 0, 0, 0, 0, 0, 0, 0, 0, 0, 0, 0, 0],\n",
              "       [0, 0, 0, 2, 0, 0, 0, 0, 0, 0, 0, 0, 0, 0, 0],\n",
              "       [0, 0, 0, 0, 2, 0, 0, 0, 0, 0, 0, 0, 0, 0, 0],\n",
              "       [0, 0, 0, 0, 0, 1, 0, 0, 0, 0, 0, 0, 0, 1, 0],\n",
              "       [0, 0, 0, 0, 0, 0, 1, 0, 1, 0, 0, 0, 0, 0, 0],\n",
              "       [0, 0, 0, 1, 0, 0, 0, 1, 0, 0, 0, 0, 0, 0, 0],\n",
              "       [0, 0, 0, 0, 0, 0, 1, 0, 1, 0, 0, 0, 0, 0, 0],\n",
              "       [0, 0, 0, 1, 0, 0, 0, 0, 0, 1, 0, 0, 0, 0, 0],\n",
              "       [0, 0, 0, 0, 0, 0, 0, 0, 0, 0, 2, 0, 0, 0, 0],\n",
              "       [0, 0, 0, 0, 0, 0, 0, 0, 0, 0, 0, 2, 0, 0, 0],\n",
              "       [0, 0, 0, 0, 0, 0, 0, 0, 0, 0, 0, 0, 2, 0, 0],\n",
              "       [0, 0, 0, 0, 0, 0, 0, 0, 0, 0, 0, 0, 0, 2, 0],\n",
              "       [0, 0, 0, 0, 0, 0, 1, 0, 0, 0, 0, 0, 0, 0, 1]])"
            ]
          },
          "metadata": {},
          "execution_count": 46
        }
      ]
    },
    {
      "cell_type": "code",
      "metadata": {
        "id": "NNod_YpXxYZZ",
        "colab": {
          "base_uri": "https://localhost:8080/",
          "height": 435
        },
        "outputId": "696d9897-0889-4c99-9de1-88aed276845a"
      },
      "source": [
        "import seaborn\n",
        "seaborn.heatmap(cm, annot=True);"
      ],
      "execution_count": null,
      "outputs": [
        {
          "output_type": "display_data",
          "data": {
            "text/plain": [
              "<Figure size 640x480 with 2 Axes>"
            ],
            "image/png": "[encoded data removed]"
          },
          "metadata": {}
        }
      ]
    },
    {
      "cell_type": "markdown",
      "metadata": {
        "id": "RNSlbagdLVWr"
      },
      "source": [
        "# Dlib"
      ]
    },
    {
      "cell_type": "code",
      "metadata": {
        "id": "_inT9B9-5wni"
      },
      "source": [
        "import dlib"
      ],
      "execution_count": null,
      "outputs": []
    },
    {
      "cell_type": "markdown",
      "metadata": {
        "id": "Pnd2hCmjLXd2"
      },
      "source": [
        "## Detecção de pontos faciais"
      ]
    },
    {
      "cell_type": "code",
      "metadata": {
        "id": "O628Kroo50jC"
      },
      "source": [
        "detector_face = dlib.get_frontal_face_detector()\n",
        "detector_pontos = dlib.shape_predictor('/content/drive/MyDrive/Visão Computacional_IA_Expert/Material 1/Weights/shape_predictor_68_face_landmarks.dat')"
      ],
      "execution_count": null,
      "outputs": []
    },
    {
      "cell_type": "code",
      "metadata": {
        "id": "Sq803-dv6PXy"
      },
      "source": [
        "imagem = cv2.imread('/content/drive/MyDrive/Cursos - recursos/Visão Computacional Guia Completo/Images/people2.jpg')\n",
        "deteccoes = detector_face(imagem, 1)\n",
        "for face in deteccoes:\n",
        "  pontos = detector_pontos(imagem, face)\n",
        "  for ponto in pontos.parts():\n",
        "    cv2.circle(imagem, (ponto.x, ponto.y), 2, (0,255,0), 1)\n",
        "\n",
        "\n",
        "  #print(pontos.parts())\n",
        "  #print(len(pontos.parts()))\n",
        "\n",
        "  l, t, r, b = face.left(), face.top(), face.right(), face.bottom()\n",
        "  cv2.rectangle(imagem, (l,t), (r, b), (0,255,255), 2)\n",
        "cv2_imshow(imagem)"
      ],
      "execution_count": null,
      "outputs": []
    },
    {
      "cell_type": "markdown",
      "metadata": {
        "id": "InwgszfXLarg"
      },
      "source": [
        "## Detecção de descritores faciais"
      ]
    },
    {
      "cell_type": "code",
      "metadata": {
        "id": "jJbpcwI7-HZd"
      },
      "source": [
        "# Resnet: https://arxiv.org/abs/1512.03385\n",
        "detector_face = dlib.get_frontal_face_detector()\n",
        "detector_pontos = dlib.shape_predictor('/content/drive/MyDrive/Cursos - recursos/Visão Computacional Guia Completo/Weights/shape_predictor_68_face_landmarks.dat')\n",
        "descritor_facial_extrator = dlib.face_recognition_model_v1('/content/drive/MyDrive/Cursos - recursos/Visão Computacional Guia Completo/Weights/dlib_face_recognition_resnet_model_v1.dat')"
      ],
      "execution_count": null,
      "outputs": []
    },
    {
      "cell_type": "code",
      "metadata": {
        "id": "IUVeyYVs_o-u"
      },
      "source": [
        "index = {}\n",
        "idx = 0\n",
        "descritores_faciais = None\n",
        "\n",
        "paths = [os.path.join('/content/yalefaces/train', f) for f in os.listdir('/content/yalefaces/train')]\n",
        "for path in paths:\n",
        "  #print(path)\n",
        "  imagem = Image.open(path).convert('RGB')\n",
        "  imagem_np = np.array(imagem, 'uint8')\n",
        "  deteccoes = detector_face(imagem_np, 1)\n",
        "  for face in deteccoes:\n",
        "    l, t, r, b = face.left(), face.top(), face.right(), face.bottom()\n",
        "    cv2.rectangle(imagem_np, (l,t), (r,b), (0,0,255), 2)\n",
        "\n",
        "    pontos = detector_pontos(imagem_np, face)\n",
        "    for ponto in pontos.parts():\n",
        "      cv2.circle(imagem_np, (ponto.x, ponto.y), 2, (0,255,0), 1)\n",
        "\n",
        "    descritor_facial = descritor_facial_extrator.compute_face_descriptor(imagem_np, pontos)\n",
        "    #print(type(descritor_facial))\n",
        "    #print(len(descritor_facial))\n",
        "    #print(descritor_facial)\n",
        "    descritor_facial = [f for f in descritor_facial]\n",
        "    #print(descritor_facial)\n",
        "    descritor_facial = np.asarray(descritor_facial, dtype=np.float64)\n",
        "    #print(descritor_facial)\n",
        "    #print(descritor_facial.shape)\n",
        "    descritor_facial = descritor_facial[np.newaxis, :]\n",
        "    #print(descritor_facial.shape)\n",
        "    #print(descritor_facial)\n",
        "\n",
        "    if descritores_faciais is None:\n",
        "      descritores_faciais = descritor_facial\n",
        "    else:\n",
        "      descritores_faciais = np.concatenate((descritores_faciais, descritor_facial), axis = 0)\n",
        "  \n",
        "    index[idx] = path\n",
        "    idx += 1\n",
        "  #cv2_imshow(imagem_np)"
      ],
      "execution_count": null,
      "outputs": []
    },
    {
      "cell_type": "code",
      "metadata": {
        "id": "Y4PrSDZpM6Ia"
      },
      "source": [
        "descritores_faciais.shape"
      ],
      "execution_count": null,
      "outputs": []
    },
    {
      "cell_type": "code",
      "metadata": {
        "id": "MBzVFnkqNCXk"
      },
      "source": [
        "descritores_faciais"
      ],
      "execution_count": null,
      "outputs": []
    },
    {
      "cell_type": "code",
      "metadata": {
        "id": "91WlGaH9NTpb"
      },
      "source": [
        "index"
      ],
      "execution_count": null,
      "outputs": []
    },
    {
      "cell_type": "code",
      "metadata": {
        "id": "TTaC2mgWNarE"
      },
      "source": [
        "len(index)"
      ],
      "execution_count": null,
      "outputs": []
    },
    {
      "cell_type": "markdown",
      "metadata": {
        "id": "fMdDtTBMLeRl"
      },
      "source": [
        "## Cálculo da distância entre as faces"
      ]
    },
    {
      "cell_type": "code",
      "metadata": {
        "id": "Krr7C3NSOw68"
      },
      "source": [
        "descritores_faciais[131]"
      ],
      "execution_count": null,
      "outputs": []
    },
    {
      "cell_type": "code",
      "metadata": {
        "id": "kARnKsa_PA_n"
      },
      "source": [
        "np.linalg.norm(descritores_faciais[131] - descritores_faciais[131])"
      ],
      "execution_count": null,
      "outputs": []
    },
    {
      "cell_type": "code",
      "metadata": {
        "id": "JXeoPovsPacM"
      },
      "source": [
        "np.linalg.norm(descritores_faciais[131] - descritores_faciais[130])"
      ],
      "execution_count": null,
      "outputs": []
    },
    {
      "cell_type": "code",
      "metadata": {
        "id": "fY98M2yEPrPV"
      },
      "source": [
        "np.linalg.norm(descritores_faciais[131] - descritores_faciais[129])"
      ],
      "execution_count": null,
      "outputs": []
    },
    {
      "cell_type": "code",
      "metadata": {
        "id": "WaWWu_g9P6X7"
      },
      "source": [
        "np.linalg.norm(descritores_faciais[131] - descritores_faciais[128])"
      ],
      "execution_count": null,
      "outputs": []
    },
    {
      "cell_type": "code",
      "metadata": {
        "id": "Pgg-3pR2QIi9"
      },
      "source": [
        "np.linalg.norm(descritores_faciais[131] - descritores_faciais[119])"
      ],
      "execution_count": null,
      "outputs": []
    },
    {
      "cell_type": "code",
      "metadata": {
        "id": "cjPzCr4CQnkH"
      },
      "source": [
        "np.linalg.norm(descritores_faciais[0] - descritores_faciais, axis = 1)"
      ],
      "execution_count": null,
      "outputs": []
    },
    {
      "cell_type": "code",
      "metadata": {
        "id": "q5irHJimRFjI"
      },
      "source": [
        "np.argmin(np.linalg.norm(descritores_faciais[0] - descritores_faciais[1:], axis = 1))"
      ],
      "execution_count": null,
      "outputs": []
    },
    {
      "cell_type": "code",
      "metadata": {
        "id": "X8T3Ak_rRW-2"
      },
      "source": [
        "np.linalg.norm(descritores_faciais[0] - descritores_faciais[1:], axis = 1)[18]"
      ],
      "execution_count": null,
      "outputs": []
    },
    {
      "cell_type": "markdown",
      "metadata": {
        "id": "DAq6CRSrLiCy"
      },
      "source": [
        "## Detecção de faces com Dlib"
      ]
    },
    {
      "cell_type": "code",
      "metadata": {
        "id": "ufRE025_UB9U"
      },
      "source": [
        "confianca = 0.5\n",
        "previsoes = []\n",
        "saidas_esperadas = []\n",
        "\n",
        "paths = [os.path.join('/content/yalefaces/test', f) for f in os.listdir('/content/yalefaces/test')]\n",
        "for path in paths:\n",
        "  #print(path)\n",
        "  imagem = Image.open(path).convert('RGB')\n",
        "  imagem_np = np.array(imagem, 'uint8')\n",
        "  deteccoes = detector_face(imagem_np, 1)\n",
        "  for face in deteccoes:\n",
        "    pontos = detector_pontos(imagem_np, face)\n",
        "    descritor_facial = descritor_facial_extrator.compute_face_descriptor(imagem_np, pontos)\n",
        "    descritor_facial = [f for f in descritor_facial]\n",
        "    descritor_facial = np.asarray(descritor_facial, dtype=np.float64)\n",
        "    descritor_facial = descritor_facial[np.newaxis, :]\n",
        "\n",
        "    distancias = np.linalg.norm(descritor_facial - descritores_faciais, axis = 1)\n",
        "    indice_minimo = np.argmin(distancias)\n",
        "    distancia_minima = distancias[indice_minimo]\n",
        "    if distancia_minima <= confianca:\n",
        "      nome_previsao = int(os.path.split(index[indice_minimo])[1].split('.')[0].replace('subject', ''))\n",
        "    else:\n",
        "      nome_previsao = 'Face não identificada'\n",
        "\n",
        "    nome_real = int(os.path.split(path)[1].split('.')[0].replace('subject', ''))\n",
        "\n",
        "    previsoes.append(nome_previsao)\n",
        "    saidas_esperadas.append(nome_real)\n",
        "\n",
        "    cv2.putText(imagem_np, 'Pred: ' + str(nome_previsao), (10,30), cv2.FONT_HERSHEY_COMPLEX_SMALL, 1, (0,255,0))\n",
        "    cv2.putText(imagem_np, 'Exp: ' + str(nome_real), (10,50), cv2.FONT_HERSHEY_COMPLEX_SMALL, 1, (0,255,0))\n",
        "\n",
        "  cv2_imshow(imagem_np)\n",
        "\n",
        "previsoes = np.array(previsoes)\n",
        "saidas_esperadas = np.array(saidas_esperadas)"
      ],
      "execution_count": null,
      "outputs": []
    },
    {
      "cell_type": "code",
      "metadata": {
        "id": "AX-GHTPqXuqr"
      },
      "source": [
        "previsoes"
      ],
      "execution_count": null,
      "outputs": []
    },
    {
      "cell_type": "code",
      "metadata": {
        "id": "cZ5cBzdiXw1u"
      },
      "source": [
        "saidas_esperadas"
      ],
      "execution_count": null,
      "outputs": []
    },
    {
      "cell_type": "code",
      "metadata": {
        "id": "GNSy8CRfX4RL"
      },
      "source": [
        "from sklearn.metrics import accuracy_score\n",
        "accuracy_score(saidas_esperadas, previsoes)"
      ],
      "execution_count": null,
      "outputs": []
    },
    {
      "cell_type": "markdown",
      "metadata": {
        "id": "4BQtWNTNLlPH"
      },
      "source": [
        "# Exercício"
      ]
    },
    {
      "cell_type": "code",
      "metadata": {
        "id": "fZkcDoyZYfXo"
      },
      "source": [
        "from google.colab import drive\n",
        "drive.mount('/content/drive')"
      ],
      "execution_count": null,
      "outputs": []
    },
    {
      "cell_type": "code",
      "metadata": {
        "id": "jEuDHQFOYhK1"
      },
      "source": [
        "import zipfile\n",
        "path = '/content/drive/MyDrive/Cursos - recursos/Visão Computacional Guia Completo/Datasets/jones_gabriel.zip'\n",
        "zip_object = zipfile.ZipFile(file=path, mode='r')\n",
        "zip_object.extractall('./')\n",
        "zip_object.close()"
      ],
      "execution_count": null,
      "outputs": []
    },
    {
      "cell_type": "code",
      "metadata": {
        "id": "s2trvEyRYqIv"
      },
      "source": [
        "def get_image_data():\n",
        "  paths = [os.path.join('/content/jones_gabriel', f) for f in os.listdir('/content/jones_gabriel')]\n",
        "  faces = []\n",
        "  ids = []\n",
        "  for path in paths:\n",
        "    image = Image.open(path).convert('L')\n",
        "    image_np = np.array(image, 'uint8')\n",
        "    id = int(path.split('.')[1])\n",
        "    \n",
        "    ids.append(id)\n",
        "    faces.append(image_np)\n",
        "  \n",
        "  return np.array(ids), faces"
      ],
      "execution_count": null,
      "outputs": []
    },
    {
      "cell_type": "code",
      "metadata": {
        "id": "112ay5j8Ytcv"
      },
      "source": [
        "ids, faces = get_image_data()"
      ],
      "execution_count": null,
      "outputs": []
    },
    {
      "cell_type": "code",
      "metadata": {
        "id": "3LHiBZpUaHRI"
      },
      "source": [
        "ids"
      ],
      "execution_count": null,
      "outputs": []
    },
    {
      "cell_type": "code",
      "metadata": {
        "id": "85XoW4RbaJ9a"
      },
      "source": [
        "faces"
      ],
      "execution_count": null,
      "outputs": []
    },
    {
      "cell_type": "code",
      "metadata": {
        "id": "J2npQ9R5Yvad"
      },
      "source": [
        "lbph_classifier = cv2.face.LBPHFaceRecognizer_create()\n",
        "lbph_classifier.train(faces, ids)\n",
        "lbph_classifier.write('lbph_classifier.yml')"
      ],
      "execution_count": null,
      "outputs": []
    },
    {
      "cell_type": "code",
      "metadata": {
        "id": "C_3RKxpLYxO2"
      },
      "source": [
        "lbph_face_classifier = cv2.face.LBPHFaceRecognizer_create()\n",
        "lbph_face_classifier.read('/content/lbph_classifier.yml')"
      ],
      "execution_count": null,
      "outputs": []
    },
    {
      "cell_type": "code",
      "metadata": {
        "id": "UkUv83KEY2HL"
      },
      "source": [
        "paths = [os.path.join('/content/jones_gabriel', f) for f in os.listdir('/content/jones_gabriel')]\n",
        "for path in paths:\n",
        "  image = Image.open(path).convert('L')\n",
        "  image_np = np.array(image, 'uint8')\n",
        "  prediction, _ = lbph_face_classifier.predict(image_np)\n",
        "  expected_output = int(path.split('.')[1])\n",
        "\n",
        "  cv2.putText(image_np, 'Pred: ' + str(prediction), (10,30), cv2.FONT_HERSHEY_COMPLEX_SMALL, 1, (0,255,0))\n",
        "  cv2.putText(image_np, 'Exp: ' + str(expected_output), (10,50), cv2.FONT_HERSHEY_COMPLEX_SMALL, 1, (0,255,0))\n",
        "  cv2_imshow(image_np)"
      ],
      "execution_count": null,
      "outputs": []
    }
  ]
}